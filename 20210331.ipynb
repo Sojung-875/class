{
  "nbformat": 4,
  "nbformat_minor": 0,
  "metadata": {
    "colab": {
      "name": "Untitled0.ipynb",
      "provenance": [],
      "authorship_tag": "ABX9TyPVm0fw3M3TGDPVs86g2Alg",
      "include_colab_link": true
    },
    "kernelspec": {
      "name": "python3",
      "display_name": "Python 3"
    },
    "language_info": {
      "name": "python"
    }
  },
  "cells": [
    {
      "cell_type": "markdown",
      "metadata": {
        "id": "view-in-github",
        "colab_type": "text"
      },
      "source": [
        "<a href=\"https://colab.research.google.com/github/Sojung-875/class2021Spring/blob/main/20210331.ipynb\" target=\"_parent\"><img src=\"https://colab.research.google.com/assets/colab-badge.svg\" alt=\"Open In Colab\"/></a>"
      ]
    },
    {
      "cell_type": "code",
      "metadata": {
        "id": "04T8FIj65nOO"
      },
      "source": [
        ""
      ],
      "execution_count": null,
      "outputs": []
    },
    {
      "cell_type": "markdown",
      "metadata": {
        "id": "s-V14Y3j5rhL"
      },
      "source": [
        "pitch : 아) 244Hz 애) 110.6Hz\n",
        "intensity :아) 58.86dB 애) 60.13dB\n",
        "format : 아) 1029Hz, 1251Hz 애) 502.8Hz, 2141Hz\n",
        "dur : 아) 0.526580sec 애) 0.539582"
      ]
    }
  ]
}