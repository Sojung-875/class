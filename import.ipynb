{
  "nbformat": 4,
  "nbformat_minor": 0,
  "metadata": {
    "colab": {
      "name": "import.ipynb",
      "provenance": [],
      "include_colab_link": true
    },
    "kernelspec": {
      "name": "python3",
      "display_name": "Python 3"
    },
    "language_info": {
      "name": "python"
    }
  },
  "cells": [
    {
      "cell_type": "markdown",
      "metadata": {
        "id": "view-in-github",
        "colab_type": "text"
      },
      "source": [
        "<a href=\"https://colab.research.google.com/github/Sojung-875/class2021Spring/blob/main/import.ipynb\" target=\"_parent\"><img src=\"https://colab.research.google.com/assets/colab-badge.svg\" alt=\"Open In Colab\"/></a>"
      ]
    },
    {
      "cell_type": "code",
      "metadata": {
        "id": "JXicrkYOzPRo",
        "outputId": "2f1f29fc-325e-4b8e-c6e2-b3a91cea59cb",
        "colab": {
          "base_uri": "https://localhost:8080/"
        }
      },
      "source": [
        "import numpy as np #numpy라는 패키지\n",
        "n = np.random.randn(100)\n",
        "n"
      ],
      "execution_count": 1,
      "outputs": [
        {
          "output_type": "execute_result",
          "data": {
            "text/plain": [
              "array([ 1.47008002,  0.05810452,  0.21323587, -0.4746573 , -0.65715504,\n",
              "       -0.09196227, -0.00877495,  0.55460477, -0.09905589, -0.43015718,\n",
              "        0.07182615,  0.47209296,  1.54527797,  1.10639992,  1.23654645,\n",
              "       -0.38347177,  0.22138334, -0.44449433, -0.05950517, -0.67318703,\n",
              "       -0.38630134, -0.58584748,  0.45105881,  1.42836161, -0.83513126,\n",
              "       -1.37076071, -0.18017403, -0.04154925, -1.24947921,  0.10539176,\n",
              "       -0.20556261, -0.06306419,  0.12730645, -1.98212351, -0.09889218,\n",
              "       -0.43909656,  0.42514909, -1.00559825, -1.39396679, -2.09405567,\n",
              "       -1.21989466,  0.47519752,  0.64607663, -0.26865292,  1.1167957 ,\n",
              "        0.32275   ,  0.56023853, -1.22478777, -0.66407829, -0.11098616,\n",
              "        0.1437622 , -2.92660348,  0.10804153, -0.25454412,  0.3562145 ,\n",
              "       -0.050359  ,  1.82515395, -1.30877273, -0.60510391, -1.63003809,\n",
              "        2.10394505, -0.74557467,  0.75622321, -0.07739023,  0.64047704,\n",
              "        1.92435778,  0.38177548,  0.23705436,  0.01357888, -0.13902142,\n",
              "        0.64264418, -1.63316547, -1.06007083,  0.03122835, -0.28380806,\n",
              "        0.33010475,  2.16623999, -0.55304449,  0.85365965, -0.20263604,\n",
              "       -0.16031589, -1.24185907,  0.25313604,  2.06220595, -0.04446124,\n",
              "       -0.47764317, -0.31672608, -1.92333973, -0.31462807, -0.77407544,\n",
              "        0.40226209,  0.31901597, -0.65595914,  0.48221089, -0.18867383,\n",
              "       -0.03776096, -1.05989895,  0.93887213, -0.06374661,  0.75088349])"
            ]
          },
          "metadata": {
            "tags": []
          },
          "execution_count": 1
        }
      ]
    },
    {
      "cell_type": "code",
      "metadata": {
        "id": "oKT4vn4MwyLA"
      },
      "source": [
        "#import matplotlib\n",
        "#import matplotlib.pyplot\n",
        "\n",
        "from matplotlib import pyplot\n",
        "#from matplotlib.pyplot import hist"
      ],
      "execution_count": 3,
      "outputs": []
    }
  ]
}