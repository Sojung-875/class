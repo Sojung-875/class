{
  "nbformat": 4,
  "nbformat_minor": 0,
  "metadata": {
    "colab": {
      "name": "Programming.ipynb",
      "provenance": [],
      "authorship_tag": "ABX9TyOCpQJ+W7PPEbLiMHA2Fstm",
      "include_colab_link": true
    },
    "kernelspec": {
      "name": "python3",
      "display_name": "Python 3"
    }
  },
  "cells": [
    {
      "cell_type": "markdown",
      "metadata": {
        "id": "view-in-github",
        "colab_type": "text"
      },
      "source": [
        "<a href=\"https://colab.research.google.com/github/Sojung-875/class2021Spring/blob/main/Programming.ipynb\" target=\"_parent\"><img src=\"https://colab.research.google.com/assets/colab-badge.svg\" alt=\"Open In Colab\"/></a>"
      ]
    },
    {
      "cell_type": "code",
      "metadata": {
        "id": "jiYeUX-ro4uy"
      },
      "source": [
        ""
      ],
      "execution_count": null,
      "outputs": []
    },
    {
      "cell_type": "markdown",
      "metadata": {
        "id": "jpe-bmH3pHWP"
      },
      "source": [
        "#**컴퓨터 언어**\r\n",
        "##변수\r\n",
        "###함수에 투입되는 변하는 수이다. 인간의 언어가 단어와 문법으로 이루어져있다면 컴퓨터 언어에서 단어에 해당되는 것이 바로 변수이다. 오른쪽 내용이 왼쪽에 있는 variable, 즉 변수에 assign되는 형태로 이루어져 있다.\r\n",
        "##제어문\r\n",
        "###인간의 단어가 변수와 연관되어 있다면 컴퓨터 언어의 제어문은 문법에 해당된다. 제어문은 대표적으로 반복(for문) 과 조건(if문)으로 분류된다.\r\n",
        "##함수\r\n",
        "###입출력 관계에서 input(입력)이 들어가변 어떤 변화를 거쳐 output(출력)이 나온다. 여기에서 작용되는 변화에 해당되는 것이 function, 즉 함수이다. "
      ]
    }
  ]
}